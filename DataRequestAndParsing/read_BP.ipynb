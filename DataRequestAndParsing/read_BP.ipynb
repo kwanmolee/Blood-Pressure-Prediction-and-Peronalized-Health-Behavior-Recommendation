{
 "cells": [
  {
   "cell_type": "code",
   "execution_count": 1,
   "metadata": {},
   "outputs": [],
   "source": [
    "import os\n",
    "import csv\n",
    "import requests\n",
    "import pandas as pd\n",
    "import csv\n",
    "import io\n",
    "import json\n",
    "import collections"
   ]
  },
  {
   "cell_type": "markdown",
   "metadata": {},
   "source": [
    "### Function for reading user files"
   ]
  },
  {
   "cell_type": "code",
   "execution_count": 2,
   "metadata": {},
   "outputs": [],
   "source": [
    "def extract_user_token(path):\n",
    "    data = []\n",
    "    with open('token/omron_token/'+path, newline='') as f:\n",
    "        cv = csv.reader(f)\n",
    "        data = [\",\".join(row) for row in cv]\n",
    "    # first row is for attributes \n",
    "    # second attribute - user token\n",
    "    dic = {}\n",
    "    name, val = data[0].split(\",\"),  data[1].split(\",\")\n",
    "    for i in range(len(name)):\n",
    "        dic[name[i]] = val[i] \n",
    "    user_token = \"{0} {1}\".format(dic[\"token_type\"], dic[\"access_token\"])\n",
    "    return user_token"
   ]
  },
  {
   "cell_type": "code",
   "execution_count": 3,
   "metadata": {},
   "outputs": [],
   "source": [
    "def request_2_df(url, headers, data):\n",
    "    r = requests.post(url, headers = headers, data = data)\n",
    "    r_dic = json.loads(r.text)\n",
    "    BP_dic = r_dic[\"result\"][\"bloodPressure\"]\n",
    "    bp = pd.DataFrame.from_dict(BP_dic)\n",
    "    return bp"
   ]
  },
  {
   "cell_type": "code",
   "execution_count": 4,
   "metadata": {},
   "outputs": [],
   "source": [
    "def save_user_data(path, main_folder, url):\n",
    "    # check file validity\n",
    "    extension = path.split(\".\")[-1]\n",
    "    if extension != \"csv\":\n",
    "        print(\"This is not a csv file!\")\n",
    "        return \n",
    "    # get user id\n",
    "    file = path.split(\".\")[0]\n",
    "    i, user_id = 0, \"\"\n",
    "    while file[i].isdigit():\n",
    "        i += 1\n",
    "    user_id = file[:i]\n",
    "    if not user_id:\n",
    "        print(\"This is not a valid user id!\")\n",
    "        return \n",
    "    \n",
    "    # read user token \n",
    "    user_token = extract_user_token(path)\n",
    "    \n",
    "    # request data with token and create dataframe \n",
    "    headers = {'Authorization': user_token}\n",
    "    data = {'since': '2019-01-01'}\n",
    "    try:\n",
    "        df = request_2_df(url, headers, data)\n",
    "    except:\n",
    "        print(\"File {0}: Request is unsuccessful\".format(file + \".csv\"))\n",
    "        return \n",
    "    \n",
    "    # create folder OR update file for user\n",
    "    if not main_folder:\n",
    "        main_folder = \"users\"\n",
    "        os.mkdir(main_folder)\n",
    "    user_folder = \"{0}/{1}\".format(main_folder, user_id)\n",
    "    if not os.path.exists(user_folder):\n",
    "        os.mkdir(user_folder)\n",
    "    df.to_csv(path_or_buf = \"{0}/{1}.csv\".format(user_folder,user_id))\n",
    "    print(\"File {0}: Successful convertion and saving!\".format(user_id))"
   ]
  },
  {
   "cell_type": "code",
   "execution_count": 5,
   "metadata": {},
   "outputs": [
    {
     "name": "stdout",
     "output_type": "stream",
     "text": [
      "File 011: Successful convertion and saving!\n",
      "File 027: Successful convertion and saving!\n",
      "File 026: Successful convertion and saving!\n",
      "File 009: Successful convertion and saving!\n",
      "File 012: Successful convertion and saving!\n",
      "File 002: Successful convertion and saving!\n",
      "File 019: Successful convertion and saving!\n",
      "File 003: Successful convertion and saving!\n",
      "File 006: Successful convertion and saving!\n",
      "File 001: Successful convertion and saving!\n",
      "File 025: Successful convertion and saving!\n",
      "File 005: Successful convertion and saving!\n",
      "File 021: Successful convertion and saving!\n",
      "File 013: Successful convertion and saving!\n",
      "File 018: Successful convertion and saving!\n",
      "File 016: Successful convertion and saving!\n",
      "File 015: Successful convertion and saving!\n",
      "File 014: Successful convertion and saving!\n",
      "File 023: Successful convertion and saving!\n",
      "File 020: Successful convertion and saving!\n",
      "File 028: Successful convertion and saving!\n",
      "File 017: Successful convertion and saving!\n",
      "File 029: Successful convertion and saving!\n",
      "File 010: Successful convertion and saving!\n",
      "File 099: Successful convertion and saving!\n",
      "File 008: Successful convertion and saving!\n",
      "File 007: Successful convertion and saving!\n"
     ]
    }
   ],
   "source": [
    "url = 'https://api.omronwellness.com/api/measurement'\n",
    "for filename in os.listdir(\"token/omron_token\"):\n",
    "    save_user_data(filename, \"BP\", url)"
   ]
  },
  {
   "cell_type": "code",
   "execution_count": null,
   "metadata": {},
   "outputs": [],
   "source": []
  }
 ],
 "metadata": {
  "kernelspec": {
   "display_name": "Python 3",
   "language": "python",
   "name": "python3"
  },
  "language_info": {
   "codemirror_mode": {
    "name": "ipython",
    "version": 3
   },
   "file_extension": ".py",
   "mimetype": "text/x-python",
   "name": "python",
   "nbconvert_exporter": "python",
   "pygments_lexer": "ipython3",
   "version": "3.6.7"
  }
 },
 "nbformat": 4,
 "nbformat_minor": 2
}
